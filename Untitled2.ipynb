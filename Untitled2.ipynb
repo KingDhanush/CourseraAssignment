{
 "cells": [
  {
   "cell_type": "markdown",
   "id": "e8d75f6c",
   "metadata": {},
   "source": [
    "# \"My Jupyter Notebook on IBM WATSON STUDIO\""
   ]
  },
  {
   "cell_type": "markdown",
   "id": "67880fc7",
   "metadata": {},
   "source": [
    "POPURI DHANUSH\n",
    "I am currently in the final year of my BTech and i want to become a data scientist in the future."
   ]
  },
  {
   "cell_type": "markdown",
   "id": "1360f57c",
   "metadata": {},
   "source": [
    "*I am interested in Data science because i always like to manipulate data and i feel that this field is perfect for me."
   ]
  },
  {
   "cell_type": "markdown",
   "id": "5d457cc3",
   "metadata": {},
   "source": [
    "### My code is going to print hello world"
   ]
  },
  {
   "cell_type": "code",
   "execution_count": 1,
   "id": "a2224ce2",
   "metadata": {},
   "outputs": [
    {
     "name": "stdout",
     "output_type": "stream",
     "text": [
      "hello world\n"
     ]
    }
   ],
   "source": [
    "print(\"hello world\")"
   ]
  },
  {
   "cell_type": "code",
   "execution_count": 7,
   "id": "4ec4ef25",
   "metadata": {},
   "outputs": [],
   "source": [
    "1. 1\n",
    "2. 2 \n",
    "3. 3\n",
    "\n",
    "List = [1,2,3]\n",
    "<a href=\"https://google.at\">text</a>"
   ]
  },
  {
   "cell_type": "code",
   "execution_count": null,
   "id": "09005bec",
   "metadata": {},
   "outputs": [],
   "source": []
  }
 ],
 "metadata": {
  "kernelspec": {
   "display_name": "Python 3 (ipykernel)",
   "language": "python",
   "name": "python3"
  },
  "language_info": {
   "codemirror_mode": {
    "name": "ipython",
    "version": 3
   },
   "file_extension": ".py",
   "mimetype": "text/x-python",
   "name": "python",
   "nbconvert_exporter": "python",
   "pygments_lexer": "ipython3",
   "version": "3.8.3rc1"
  }
 },
 "nbformat": 4,
 "nbformat_minor": 5
}
